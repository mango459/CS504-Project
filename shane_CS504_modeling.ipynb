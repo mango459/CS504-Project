{
 "cells": [
  {
   "cell_type": "markdown",
   "metadata": {},
   "source": [
    "# Modeling"
   ]
  },
  {
   "cell_type": "code",
   "execution_count": 17,
   "metadata": {},
   "outputs": [],
   "source": [
    "import pandas as pd\n",
    "import numpy as np\n",
    "from scipy.stats import spearmanr\n",
    "from src.static import DATA_DIR"
   ]
  },
  {
   "cell_type": "code",
   "execution_count": 18,
   "metadata": {},
   "outputs": [],
   "source": [
    "df = pd.read_csv(f'{DATA_DIR}/preprocessed_data.csv')"
   ]
  },
  {
   "cell_type": "code",
   "execution_count": 19,
   "metadata": {},
   "outputs": [
    {
     "data": {
      "text/plain": [
       "year                                             int64\n",
       "record_number                                    int64\n",
       "census_tract_2020                                int64\n",
       "tract_income_ratio                               int64\n",
       "affordability_cat                                int64\n",
       "num_units                                      float64\n",
       "num_bedrooms_0-1                               float64\n",
       "num_bedrooms_>=2                               float64\n",
       "affordability_level_>100%                      float64\n",
       "affordability_level_>50, <=60%                 float64\n",
       "affordability_level_>60, <=80%                 float64\n",
       "affordability_level_>80, <=100%                float64\n",
       "affordability_level_>=0, <=50%                 float64\n",
       "enterprise_flag_fannie                            bool\n",
       "enterprise_flag_freddie                           bool\n",
       "date_of_mortgage_note_prior to year aquired       bool\n",
       "date_of_mortgage_note_same year as acquired       bool\n",
       "purpose_of_loan_improvement/rehab                 bool\n",
       "purpose_of_loan_new build                         bool\n",
       "purpose_of_loan_purchase                          bool\n",
       "purpose_of_loan_refinance                         bool\n",
       "type_of_seller_Other                              bool\n",
       "type_of_seller_SAIF or BIF                        bool\n",
       "type_of_seller_mortgage_company                   bool\n",
       "federal_guarantee_FHA                             bool\n",
       "federal_guarantee_no                              bool\n",
       "federal_guarantee_yes                             bool\n",
       "tenant_income_ind_No                              bool\n",
       "tot_num_units_100-149                             bool\n",
       "tot_num_units_25-50                               bool\n",
       "tot_num_units_5-24                                bool\n",
       "tot_num_units_51-99                               bool\n",
       "tot_num_units_> 149                               bool\n",
       "after_covid_ind                                   bool\n",
       "num_affordable_units                           float64\n",
       "dtype: object"
      ]
     },
     "execution_count": 19,
     "metadata": {},
     "output_type": "execute_result"
    }
   ],
   "source": [
    "df.dtypes"
   ]
  },
  {
   "cell_type": "markdown",
   "metadata": {},
   "source": [
    "## Train Test Split\n",
    "The next step will perform out train test split by finding optimal number of years toward the end of the dataset to get an approximate 80/20 split. The cumulative values below are observed and compared to the actual calculation of `# of rows * 0.80"
   ]
  },
  {
   "cell_type": "code",
   "execution_count": 20,
   "metadata": {},
   "outputs": [
    {
     "data": {
      "text/plain": [
       "year\n",
       "2018     7600\n",
       "2019    14884\n",
       "2020    22895\n",
       "2021    30364\n",
       "2022    37342\n",
       "2023    41868\n",
       "Name: count, dtype: int64"
      ]
     },
     "execution_count": 20,
     "metadata": {},
     "output_type": "execute_result"
    }
   ],
   "source": [
    "df.year.value_counts().sort_index().cumsum()"
   ]
  },
  {
   "cell_type": "code",
   "execution_count": 21,
   "metadata": {},
   "outputs": [
    {
     "data": {
      "text/plain": [
       "33494.4"
      ]
     },
     "execution_count": 21,
     "metadata": {},
     "output_type": "execute_result"
    }
   ],
   "source": [
    "df.shape[0]*0.80"
   ]
  },
  {
   "cell_type": "markdown",
   "metadata": {},
   "source": [
    "Based on the ovserved values we will use years occuring after 2021 as the test set and the previously occuring records as the training set to mimic real world conditions where future information is not allowed into the training data"
   ]
  },
  {
   "cell_type": "code",
   "execution_count": 22,
   "metadata": {},
   "outputs": [],
   "source": [
    "train, test = (df[df.year <= 2021], df[df.year > 2021])"
   ]
  },
  {
   "cell_type": "markdown",
   "metadata": {},
   "source": [
    "## EDA\n",
    "### Correlation Testing"
   ]
  },
  {
   "cell_type": "code",
   "execution_count": 23,
   "metadata": {},
   "outputs": [
    {
     "data": {
      "text/plain": [
       "year                                             int64\n",
       "record_number                                    int64\n",
       "census_tract_2020                                int64\n",
       "tract_income_ratio                               int64\n",
       "affordability_cat                                int64\n",
       "num_units                                      float64\n",
       "num_bedrooms_0-1                               float64\n",
       "num_bedrooms_>=2                               float64\n",
       "affordability_level_>100%                      float64\n",
       "affordability_level_>50, <=60%                 float64\n",
       "affordability_level_>60, <=80%                 float64\n",
       "affordability_level_>80, <=100%                float64\n",
       "affordability_level_>=0, <=50%                 float64\n",
       "enterprise_flag_fannie                            bool\n",
       "enterprise_flag_freddie                           bool\n",
       "date_of_mortgage_note_prior to year aquired       bool\n",
       "date_of_mortgage_note_same year as acquired       bool\n",
       "purpose_of_loan_improvement/rehab                 bool\n",
       "purpose_of_loan_new build                         bool\n",
       "purpose_of_loan_purchase                          bool\n",
       "purpose_of_loan_refinance                         bool\n",
       "type_of_seller_Other                              bool\n",
       "type_of_seller_SAIF or BIF                        bool\n",
       "type_of_seller_mortgage_company                   bool\n",
       "federal_guarantee_FHA                             bool\n",
       "federal_guarantee_no                              bool\n",
       "federal_guarantee_yes                             bool\n",
       "tenant_income_ind_No                              bool\n",
       "tot_num_units_100-149                             bool\n",
       "tot_num_units_25-50                               bool\n",
       "tot_num_units_5-24                                bool\n",
       "tot_num_units_51-99                               bool\n",
       "tot_num_units_> 149                               bool\n",
       "after_covid_ind                                   bool\n",
       "num_affordable_units                           float64\n",
       "dtype: object"
      ]
     },
     "execution_count": 23,
     "metadata": {},
     "output_type": "execute_result"
    }
   ],
   "source": [
    "train.dtypes"
   ]
  },
  {
   "cell_type": "code",
   "execution_count": 24,
   "metadata": {},
   "outputs": [],
   "source": [
    "def get_spearman_corr(df, target):\n",
    "    correlations = dict()\n",
    "    for col in df.drop(target, axis=1).select_dtypes(include=np.number).columns:\n",
    "        corr, p_value = spearmanr(df[col], df[target])\n",
    "        correlations[col] = {'spearman_corr': corr, 'p_value': p_value}\n",
    "    correlation_df = pd.DataFrame(correlations).T\n",
    "    return correlation_df\n"
   ]
  },
  {
   "cell_type": "code",
   "execution_count": 35,
   "metadata": {},
   "outputs": [
    {
     "data": {
      "text/html": [
       "<div>\n",
       "<style scoped>\n",
       "    .dataframe tbody tr th:only-of-type {\n",
       "        vertical-align: middle;\n",
       "    }\n",
       "\n",
       "    .dataframe tbody tr th {\n",
       "        vertical-align: top;\n",
       "    }\n",
       "\n",
       "    .dataframe thead th {\n",
       "        text-align: right;\n",
       "    }\n",
       "</style>\n",
       "<table border=\"1\" class=\"dataframe\">\n",
       "  <thead>\n",
       "    <tr style=\"text-align: right;\">\n",
       "      <th></th>\n",
       "      <th>spearman_corr</th>\n",
       "      <th>p_value</th>\n",
       "    </tr>\n",
       "  </thead>\n",
       "  <tbody>\n",
       "    <tr>\n",
       "      <th>affordability_level_&gt;=0, &lt;=50%</th>\n",
       "      <td>-0.661867</td>\n",
       "      <td>0.000000e+00</td>\n",
       "    </tr>\n",
       "    <tr>\n",
       "      <th>affordability_level_&gt;50, &lt;=60%</th>\n",
       "      <td>-0.438803</td>\n",
       "      <td>0.000000e+00</td>\n",
       "    </tr>\n",
       "    <tr>\n",
       "      <th>num_affordable_units</th>\n",
       "      <td>-0.366007</td>\n",
       "      <td>0.000000e+00</td>\n",
       "    </tr>\n",
       "    <tr>\n",
       "      <th>num_units</th>\n",
       "      <td>-0.101249</td>\n",
       "      <td>5.218657e-70</td>\n",
       "    </tr>\n",
       "    <tr>\n",
       "      <th>num_bedrooms_&gt;=2</th>\n",
       "      <td>-0.067073</td>\n",
       "      <td>1.270486e-31</td>\n",
       "    </tr>\n",
       "    <tr>\n",
       "      <th>census_tract_2020</th>\n",
       "      <td>-0.032483</td>\n",
       "      <td>1.500560e-08</td>\n",
       "    </tr>\n",
       "    <tr>\n",
       "      <th>year</th>\n",
       "      <td>0.025289</td>\n",
       "      <td>1.047040e-05</td>\n",
       "    </tr>\n",
       "    <tr>\n",
       "      <th>tract_income_ratio</th>\n",
       "      <td>0.248511</td>\n",
       "      <td>0.000000e+00</td>\n",
       "    </tr>\n",
       "    <tr>\n",
       "      <th>affordability_level_&gt;60, &lt;=80%</th>\n",
       "      <td>0.271909</td>\n",
       "      <td>0.000000e+00</td>\n",
       "    </tr>\n",
       "    <tr>\n",
       "      <th>affordability_level_&gt;100%</th>\n",
       "      <td>0.420299</td>\n",
       "      <td>0.000000e+00</td>\n",
       "    </tr>\n",
       "    <tr>\n",
       "      <th>affordability_level_&gt;80, &lt;=100%</th>\n",
       "      <td>0.563195</td>\n",
       "      <td>0.000000e+00</td>\n",
       "    </tr>\n",
       "  </tbody>\n",
       "</table>\n",
       "</div>"
      ],
      "text/plain": [
       "                                 spearman_corr       p_value\n",
       "affordability_level_>=0, <=50%       -0.661867  0.000000e+00\n",
       "affordability_level_>50, <=60%       -0.438803  0.000000e+00\n",
       "num_affordable_units                 -0.366007  0.000000e+00\n",
       "num_units                            -0.101249  5.218657e-70\n",
       "num_bedrooms_>=2                     -0.067073  1.270486e-31\n",
       "census_tract_2020                    -0.032483  1.500560e-08\n",
       "year                                  0.025289  1.047040e-05\n",
       "tract_income_ratio                    0.248511  0.000000e+00\n",
       "affordability_level_>60, <=80%        0.271909  0.000000e+00\n",
       "affordability_level_>100%             0.420299  0.000000e+00\n",
       "affordability_level_>80, <=100%       0.563195  0.000000e+00"
      ]
     },
     "execution_count": 35,
     "metadata": {},
     "output_type": "execute_result"
    }
   ],
   "source": [
    "corr_df = get_spearman_corr(train, 'affordability_cat')\n",
    "corr_df[corr_df['p_value'] < 0.05].sort_values(by='spearman_corr')"
   ]
  },
  {
   "cell_type": "markdown",
   "metadata": {},
   "source": [
    "We have a number of statistically significant correlations with the key takeaways below:\n",
    "- As affordabliltiy category increases (less affordable) the number more affordabile units decreases\n",
    "- The number of overall units also decreses\n",
    "- The tract income ratio only has a small positive corelation with an increase in affordablity category\n",
    "- Unsuprsingly as affordability category increases the nubmer of less affordable units increases.\n",
    "\n",
    "These observations cement our understanding of the interplay between affordability_cat and other variables.The most interesting observation here is that despite their apparent implied relationship the tract_income_ratio only has a very weakly positive correlation with the affordability category suggesting that greater incomes do not go hand in hand with lesser affordability."
   ]
  },
  {
   "cell_type": "code",
   "execution_count": 33,
   "metadata": {},
   "outputs": [
    {
     "data": {
      "text/html": [
       "<div>\n",
       "<style scoped>\n",
       "    .dataframe tbody tr th:only-of-type {\n",
       "        vertical-align: middle;\n",
       "    }\n",
       "\n",
       "    .dataframe tbody tr th {\n",
       "        vertical-align: top;\n",
       "    }\n",
       "\n",
       "    .dataframe thead th {\n",
       "        text-align: right;\n",
       "    }\n",
       "</style>\n",
       "<table border=\"1\" class=\"dataframe\">\n",
       "  <thead>\n",
       "    <tr style=\"text-align: right;\">\n",
       "      <th></th>\n",
       "      <th>spearman_corr</th>\n",
       "      <th>p_value</th>\n",
       "    </tr>\n",
       "  </thead>\n",
       "  <tbody>\n",
       "    <tr>\n",
       "      <th>year</th>\n",
       "      <td>-0.036293</td>\n",
       "      <td>2.516942e-10</td>\n",
       "    </tr>\n",
       "    <tr>\n",
       "      <th>record_number</th>\n",
       "      <td>0.015241</td>\n",
       "      <td>7.912828e-03</td>\n",
       "    </tr>\n",
       "    <tr>\n",
       "      <th>tract_income_ratio</th>\n",
       "      <td>-0.459865</td>\n",
       "      <td>0.000000e+00</td>\n",
       "    </tr>\n",
       "    <tr>\n",
       "      <th>affordability_cat</th>\n",
       "      <td>-0.032483</td>\n",
       "      <td>1.500560e-08</td>\n",
       "    </tr>\n",
       "    <tr>\n",
       "      <th>num_units</th>\n",
       "      <td>0.035473</td>\n",
       "      <td>6.288903e-10</td>\n",
       "    </tr>\n",
       "    <tr>\n",
       "      <th>num_bedrooms_0-1</th>\n",
       "      <td>0.048626</td>\n",
       "      <td>2.293769e-17</td>\n",
       "    </tr>\n",
       "    <tr>\n",
       "      <th>affordability_level_&gt;50, &lt;=60%</th>\n",
       "      <td>0.040756</td>\n",
       "      <td>1.208105e-12</td>\n",
       "    </tr>\n",
       "    <tr>\n",
       "      <th>affordability_level_&gt;60, &lt;=80%</th>\n",
       "      <td>0.021181</td>\n",
       "      <td>2.233286e-04</td>\n",
       "    </tr>\n",
       "    <tr>\n",
       "      <th>affordability_level_&gt;=0, &lt;=50%</th>\n",
       "      <td>0.065107</td>\n",
       "      <td>6.872050e-30</td>\n",
       "    </tr>\n",
       "    <tr>\n",
       "      <th>num_affordable_units</th>\n",
       "      <td>0.022377</td>\n",
       "      <td>9.633311e-05</td>\n",
       "    </tr>\n",
       "  </tbody>\n",
       "</table>\n",
       "</div>"
      ],
      "text/plain": [
       "                                spearman_corr       p_value\n",
       "year                                -0.036293  2.516942e-10\n",
       "record_number                        0.015241  7.912828e-03\n",
       "tract_income_ratio                  -0.459865  0.000000e+00\n",
       "affordability_cat                   -0.032483  1.500560e-08\n",
       "num_units                            0.035473  6.288903e-10\n",
       "num_bedrooms_0-1                     0.048626  2.293769e-17\n",
       "affordability_level_>50, <=60%       0.040756  1.208105e-12\n",
       "affordability_level_>60, <=80%       0.021181  2.233286e-04\n",
       "affordability_level_>=0, <=50%       0.065107  6.872050e-30\n",
       "num_affordable_units                 0.022377  9.633311e-05"
      ]
     },
     "execution_count": 33,
     "metadata": {},
     "output_type": "execute_result"
    }
   ],
   "source": [
    "corr_df = get_spearman_corr(train, 'census_tract_2020')\n",
    "corr_df[corr_df['p_value'] < 0.05]"
   ]
  },
  {
   "cell_type": "markdown",
   "metadata": {},
   "source": [
    "add analysis here"
   ]
  },
  {
   "cell_type": "code",
   "execution_count": 34,
   "metadata": {},
   "outputs": [
    {
     "data": {
      "text/html": [
       "<div>\n",
       "<style scoped>\n",
       "    .dataframe tbody tr th:only-of-type {\n",
       "        vertical-align: middle;\n",
       "    }\n",
       "\n",
       "    .dataframe tbody tr th {\n",
       "        vertical-align: top;\n",
       "    }\n",
       "\n",
       "    .dataframe thead th {\n",
       "        text-align: right;\n",
       "    }\n",
       "</style>\n",
       "<table border=\"1\" class=\"dataframe\">\n",
       "  <thead>\n",
       "    <tr style=\"text-align: right;\">\n",
       "      <th></th>\n",
       "      <th>spearman_corr</th>\n",
       "      <th>p_value</th>\n",
       "    </tr>\n",
       "  </thead>\n",
       "  <tbody>\n",
       "    <tr>\n",
       "      <th>year</th>\n",
       "      <td>0.030598</td>\n",
       "      <td>9.670157e-08</td>\n",
       "    </tr>\n",
       "    <tr>\n",
       "      <th>census_tract_2020</th>\n",
       "      <td>-0.459865</td>\n",
       "      <td>0.000000e+00</td>\n",
       "    </tr>\n",
       "    <tr>\n",
       "      <th>affordability_cat</th>\n",
       "      <td>0.248511</td>\n",
       "      <td>0.000000e+00</td>\n",
       "    </tr>\n",
       "    <tr>\n",
       "      <th>num_bedrooms_0-1</th>\n",
       "      <td>0.024750</td>\n",
       "      <td>1.608354e-05</td>\n",
       "    </tr>\n",
       "    <tr>\n",
       "      <th>num_bedrooms_&gt;=2</th>\n",
       "      <td>0.012054</td>\n",
       "      <td>3.569393e-02</td>\n",
       "    </tr>\n",
       "    <tr>\n",
       "      <th>affordability_level_&gt;100%</th>\n",
       "      <td>0.242876</td>\n",
       "      <td>0.000000e+00</td>\n",
       "    </tr>\n",
       "    <tr>\n",
       "      <th>affordability_level_&gt;50, &lt;=60%</th>\n",
       "      <td>-0.183027</td>\n",
       "      <td>5.676378e-227</td>\n",
       "    </tr>\n",
       "    <tr>\n",
       "      <th>affordability_level_&gt;60, &lt;=80%</th>\n",
       "      <td>0.039513</td>\n",
       "      <td>5.669559e-12</td>\n",
       "    </tr>\n",
       "    <tr>\n",
       "      <th>affordability_level_&gt;80, &lt;=100%</th>\n",
       "      <td>0.220539</td>\n",
       "      <td>0.000000e+00</td>\n",
       "    </tr>\n",
       "    <tr>\n",
       "      <th>affordability_level_&gt;=0, &lt;=50%</th>\n",
       "      <td>-0.227110</td>\n",
       "      <td>0.000000e+00</td>\n",
       "    </tr>\n",
       "    <tr>\n",
       "      <th>num_affordable_units</th>\n",
       "      <td>-0.143118</td>\n",
       "      <td>1.143783e-138</td>\n",
       "    </tr>\n",
       "  </tbody>\n",
       "</table>\n",
       "</div>"
      ],
      "text/plain": [
       "                                 spearman_corr        p_value\n",
       "year                                  0.030598   9.670157e-08\n",
       "census_tract_2020                    -0.459865   0.000000e+00\n",
       "affordability_cat                     0.248511   0.000000e+00\n",
       "num_bedrooms_0-1                      0.024750   1.608354e-05\n",
       "num_bedrooms_>=2                      0.012054   3.569393e-02\n",
       "affordability_level_>100%             0.242876   0.000000e+00\n",
       "affordability_level_>50, <=60%       -0.183027  5.676378e-227\n",
       "affordability_level_>60, <=80%        0.039513   5.669559e-12\n",
       "affordability_level_>80, <=100%       0.220539   0.000000e+00\n",
       "affordability_level_>=0, <=50%       -0.227110   0.000000e+00\n",
       "num_affordable_units                 -0.143118  1.143783e-138"
      ]
     },
     "execution_count": 34,
     "metadata": {},
     "output_type": "execute_result"
    }
   ],
   "source": [
    "corr_df = get_spearman_corr(train, 'tract_income_ratio')\n",
    "corr_df[corr_df['p_value'] < 0.05]"
   ]
  },
  {
   "cell_type": "markdown",
   "metadata": {},
   "source": [
    "add analysis here"
   ]
  }
 ],
 "metadata": {
  "kernelspec": {
   "display_name": "dev-env",
   "language": "python",
   "name": "python3"
  },
  "language_info": {
   "codemirror_mode": {
    "name": "ipython",
    "version": 3
   },
   "file_extension": ".py",
   "mimetype": "text/x-python",
   "name": "python",
   "nbconvert_exporter": "python",
   "pygments_lexer": "ipython3",
   "version": "3.11.9"
  }
 },
 "nbformat": 4,
 "nbformat_minor": 2
}
