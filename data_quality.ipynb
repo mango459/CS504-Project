{
 "cells": [
  {
   "cell_type": "code",
   "execution_count": 3,
   "metadata": {},
   "outputs": [],
   "source": [
    "import glob\n",
    "import pandas as pd\n",
    "from src.static import DATA_DIR"
   ]
  },
  {
   "cell_type": "markdown",
   "metadata": {},
   "source": [
    "# Data Completeness\n",
    "Examining data for completeness involves a few methodical steps to ensure no critical components are missing"
   ]
  },
  {
   "cell_type": "code",
   "execution_count": 7,
   "metadata": {},
   "outputs": [
    {
     "data": {
      "text/plain": [
       "['/home/mango/data/CS504/raw_unit_data.csv',\n",
       " '/home/mango/data/CS504/loan_data.csv',\n",
       " '/home/mango/data/CS504/unit_data.csv',\n",
       " '/home/mango/data/CS504/raw_loan_data.csv']"
      ]
     },
     "execution_count": 7,
     "metadata": {},
     "output_type": "execute_result"
    }
   ],
   "source": [
    "files = glob.glob(f'{DATA_DIR}/*.csv')\n",
    "files"
   ]
  },
  {
   "cell_type": "code",
   "execution_count": 9,
   "metadata": {},
   "outputs": [
    {
     "name": "stderr",
     "output_type": "stream",
     "text": [
      "/tmp/ipykernel_10843/974410946.py:2: DtypeWarning: Columns (9) have mixed types. Specify dtype option on import or set low_memory=False.\n",
      "  unit_data = pd.read_csv(files[3])\n"
     ]
    }
   ],
   "source": [
    "loan_data = pd.read_csv(files[1])\n",
    "unit_data = pd.read_csv(files[3])"
   ]
  },
  {
   "cell_type": "markdown",
   "metadata": {},
   "source": [
    "## Missing values check"
   ]
  },
  {
   "cell_type": "code",
   "execution_count": 10,
   "metadata": {},
   "outputs": [],
   "source": [
    "def null_pct(df:pd.core.frame.DataFrame, col:str):\n",
    "    return f'{round((df[col].isna().sum())*100/df.shape[0], 2)}%'"
   ]
  },
  {
   "cell_type": "code",
   "execution_count": 34,
   "metadata": {},
   "outputs": [
    {
     "name": "stdout",
     "output_type": "stream",
     "text": [
      "Loan Data Data Completeness'\n",
      "Year: 0.0%\n",
      "Enterprise_flag: 0.0%\n",
      "Record_number: 0.0%\n",
      "Census_tract_2020: 0.0%\n",
      "Tract_income_ratio: 0.0%\n",
      "Affordability_cat: 0.0%\n",
      "Date_of_mortgage_note: 0.0%\n",
      "Purpose_of_loan: 0.0%\n",
      "Type_of_seller: 0.0%\n",
      "Federal_guarantee: 0.0%\n",
      "Tot_num_units: 0.0%\n"
     ]
    }
   ],
   "source": [
    "def null_report(df, **kwargs):\n",
    "    print(f\"{kwargs.get('name', 'DF')+' '}Data Completeness'\")\n",
    "    for col in loan_data.columns:\n",
    "        print(f'{col.capitalize()}: {null_pct(loan_data, col)}')\n",
    "\n",
    "null_report('', **{'name': 'Loan Data'})"
   ]
  },
  {
   "cell_type": "markdown",
   "metadata": {},
   "source": [
    "With such few null values in the data we can examine the nulls by hand..."
   ]
  },
  {
   "cell_type": "code",
   "execution_count": 35,
   "metadata": {},
   "outputs": [
    {
     "data": {
      "text/plain": [
       "(0, 11)"
      ]
     },
     "execution_count": 35,
     "metadata": {},
     "output_type": "execute_result"
    }
   ],
   "source": [
    "nulls = loan_data.loc[loan_data.enterprise_flag.isna()]\n",
    "nulls.shape"
   ]
  },
  {
   "cell_type": "markdown",
   "metadata": {},
   "source": [
    "looks like there are 32 records missing pretty much everything, lets drop them."
   ]
  },
  {
   "cell_type": "code",
   "execution_count": 29,
   "metadata": {},
   "outputs": [],
   "source": [
    "loan_data.dropna(axis=0, inplace=True)"
   ]
  },
  {
   "cell_type": "code",
   "execution_count": 37,
   "metadata": {},
   "outputs": [
    {
     "name": "stdout",
     "output_type": "stream",
     "text": [
      "Loan Data Data Completeness'\n",
      "Year: 0.0%\n",
      "Enterprise_flag: 0.0%\n",
      "Record_number: 0.0%\n",
      "Census_tract_2020: 0.0%\n",
      "Tract_income_ratio: 0.0%\n",
      "Affordability_cat: 0.0%\n",
      "Date_of_mortgage_note: 0.0%\n",
      "Purpose_of_loan: 0.0%\n",
      "Type_of_seller: 0.0%\n",
      "Federal_guarantee: 0.0%\n",
      "Tot_num_units: 0.0%\n"
     ]
    }
   ],
   "source": [
    "null_report(loan_data, **{'name':'Loan Data'})"
   ]
  },
  {
   "cell_type": "code",
   "execution_count": 38,
   "metadata": {},
   "outputs": [
    {
     "name": "stdout",
     "output_type": "stream",
     "text": [
      "Unit Data Data Completeness'\n",
      "Year: 0.0%\n",
      "Enterprise_flag: 0.0%\n",
      "Record_number: 0.0%\n",
      "Census_tract_2020: 0.0%\n",
      "Tract_income_ratio: 0.0%\n",
      "Affordability_cat: 0.0%\n",
      "Date_of_mortgage_note: 0.0%\n",
      "Purpose_of_loan: 0.0%\n",
      "Type_of_seller: 0.0%\n",
      "Federal_guarantee: 0.0%\n",
      "Tot_num_units: 0.0%\n"
     ]
    }
   ],
   "source": [
    "null_report(unit_data, **{'name':'Unit Data'})"
   ]
  },
  {
   "cell_type": "markdown",
   "metadata": {},
   "source": [
    "# Uniqueness\n"
   ]
  },
  {
   "cell_type": "markdown",
   "metadata": {},
   "source": [
    "# Accuracy\n"
   ]
  },
  {
   "cell_type": "markdown",
   "metadata": {},
   "source": [
    "# Atomicity\n"
   ]
  },
  {
   "cell_type": "markdown",
   "metadata": {},
   "source": [
    "# Conformity\n"
   ]
  },
  {
   "cell_type": "markdown",
   "metadata": {},
   "source": [
    "# Overall Quality"
   ]
  }
 ],
 "metadata": {
  "kernelspec": {
   "display_name": "ait580",
   "language": "python",
   "name": "python3"
  },
  "language_info": {
   "codemirror_mode": {
    "name": "ipython",
    "version": 3
   },
   "file_extension": ".py",
   "mimetype": "text/x-python",
   "name": "python",
   "nbconvert_exporter": "python",
   "pygments_lexer": "ipython3",
   "version": "3.11.10"
  }
 },
 "nbformat": 4,
 "nbformat_minor": 2
}
