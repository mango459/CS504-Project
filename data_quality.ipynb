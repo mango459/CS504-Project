{
 "cells": [
  {
   "cell_type": "code",
   "execution_count": 1,
   "metadata": {},
   "outputs": [],
   "source": [
    "import glob\n",
    "import pandas as pd\n",
    "from src.static import DATA_DIR"
   ]
  },
  {
   "cell_type": "markdown",
   "metadata": {},
   "source": [
    "# Data Completeness\n",
    "Examining data for completeness involves a few methodical steps to ensure no critical components are missing"
   ]
  },
  {
   "cell_type": "code",
   "execution_count": 2,
   "metadata": {},
   "outputs": [
    {
     "data": {
      "text/plain": [
       "['/home/mango/data/CS504/raw_unit_data.csv',\n",
       " '/home/mango/data/CS504/loan_data.csv',\n",
       " '/home/mango/data/CS504/unit_data.csv',\n",
       " '/home/mango/data/CS504/raw_loan_data.csv']"
      ]
     },
     "execution_count": 2,
     "metadata": {},
     "output_type": "execute_result"
    }
   ],
   "source": [
    "files = glob.glob(f'{DATA_DIR}/*.csv')\n",
    "files"
   ]
  },
  {
   "cell_type": "code",
   "execution_count": 24,
   "metadata": {},
   "outputs": [
    {
     "name": "stderr",
     "output_type": "stream",
     "text": [
      "/tmp/ipykernel_13707/1648879077.py:2: DtypeWarning: Columns (4) have mixed types. Specify dtype option on import or set low_memory=False.\n",
      "  unit_data = pd.read_csv(files[2])\n"
     ]
    }
   ],
   "source": [
    "loan_data = pd.read_csv(files[1])\n",
    "unit_data = pd.read_csv(files[2])"
   ]
  },
  {
   "cell_type": "markdown",
   "metadata": {},
   "source": [
    "## Missing values check"
   ]
  },
  {
   "cell_type": "code",
   "execution_count": 25,
   "metadata": {},
   "outputs": [],
   "source": [
    "def null_pct(df:pd.core.frame.DataFrame, col:str):\n",
    "    return f'{round((df[col].isna().sum())*100/df.shape[0], 2)}%'"
   ]
  },
  {
   "cell_type": "code",
   "execution_count": 26,
   "metadata": {},
   "outputs": [],
   "source": [
    "def null_report(df, **kwargs):\n",
    "    print(f\"{kwargs.get('name', 'DF')+' '}Data Completeness'\")\n",
    "    for col in df.columns:\n",
    "        print(f'{col.capitalize()}: {null_pct(df, col)}')"
   ]
  },
  {
   "cell_type": "markdown",
   "metadata": {},
   "source": [
    "With such few null values in the data we can examine the nulls by hand..."
   ]
  },
  {
   "cell_type": "code",
   "execution_count": 27,
   "metadata": {},
   "outputs": [
    {
     "data": {
      "text/plain": [
       "(32, 11)"
      ]
     },
     "execution_count": 27,
     "metadata": {},
     "output_type": "execute_result"
    }
   ],
   "source": [
    "nulls = loan_data.loc[loan_data.enterprise_flag.isna()]\n",
    "nulls.shape"
   ]
  },
  {
   "cell_type": "markdown",
   "metadata": {},
   "source": [
    "looks like there are 32 records missing pretty much everything, lets drop them."
   ]
  },
  {
   "cell_type": "code",
   "execution_count": 28,
   "metadata": {},
   "outputs": [],
   "source": [
    "loan_data.dropna(axis=0, inplace=True)"
   ]
  },
  {
   "cell_type": "code",
   "execution_count": 29,
   "metadata": {},
   "outputs": [
    {
     "name": "stdout",
     "output_type": "stream",
     "text": [
      "Loan Data Data Completeness'\n",
      "Year: 0.0%\n",
      "Enterprise_flag: 0.0%\n",
      "Record_number: 0.0%\n",
      "Census_tract_2020: 0.0%\n",
      "Tract_income_ratio: 0.0%\n",
      "Affordability_cat: 0.0%\n",
      "Date_of_mortgage_note: 0.0%\n",
      "Purpose_of_loan: 0.0%\n",
      "Type_of_seller: 0.0%\n",
      "Federal_guarantee: 0.0%\n",
      "Tot_num_units: 0.0%\n"
     ]
    }
   ],
   "source": [
    "null_report(loan_data, **{'name':'Loan Data'})"
   ]
  },
  {
   "cell_type": "code",
   "execution_count": 30,
   "metadata": {},
   "outputs": [
    {
     "name": "stdout",
     "output_type": "stream",
     "text": [
      "Unit Data Data Completeness'\n",
      "Year: 0.0%\n",
      "Enterprise_flag: 0.0%\n",
      "Record_number: 0.0%\n",
      "Num_bedrooms: 0.0%\n",
      "Num_units: 0.0%\n",
      "Affordability_level: 0.0%\n",
      "Tenant_income_ind: 0.0%\n"
     ]
    }
   ],
   "source": [
    "null_report(unit_data, **{'name':'Unit Data'})"
   ]
  },
  {
   "cell_type": "markdown",
   "metadata": {},
   "source": [
    "# Uniqueness\n",
    "A quick check confirms if there are duplicate records\n"
   ]
  },
  {
   "cell_type": "code",
   "execution_count": 31,
   "metadata": {},
   "outputs": [
    {
     "data": {
      "text/plain": [
       "False    107310\n",
       "Name: count, dtype: int64"
      ]
     },
     "execution_count": 31,
     "metadata": {},
     "output_type": "execute_result"
    }
   ],
   "source": [
    "loan_data.duplicated().value_counts()"
   ]
  },
  {
   "cell_type": "code",
   "execution_count": 32,
   "metadata": {},
   "outputs": [
    {
     "data": {
      "text/plain": [
       "True     8757784\n",
       "False     895757\n",
       "Name: count, dtype: int64"
      ]
     },
     "execution_count": 32,
     "metadata": {},
     "output_type": "execute_result"
    }
   ],
   "source": [
    "unit_data.duplicated().value_counts()"
   ]
  },
  {
   "cell_type": "code",
   "execution_count": 33,
   "metadata": {},
   "outputs": [],
   "source": [
    "duplicates = unit_data.duplicated()"
   ]
  },
  {
   "cell_type": "code",
   "execution_count": 34,
   "metadata": {},
   "outputs": [
    {
     "data": {
      "text/html": [
       "<div>\n",
       "<style scoped>\n",
       "    .dataframe tbody tr th:only-of-type {\n",
       "        vertical-align: middle;\n",
       "    }\n",
       "\n",
       "    .dataframe tbody tr th {\n",
       "        vertical-align: top;\n",
       "    }\n",
       "\n",
       "    .dataframe thead th {\n",
       "        text-align: right;\n",
       "    }\n",
       "</style>\n",
       "<table border=\"1\" class=\"dataframe\">\n",
       "  <thead>\n",
       "    <tr style=\"text-align: right;\">\n",
       "      <th></th>\n",
       "      <th>year</th>\n",
       "      <th>enterprise_flag</th>\n",
       "      <th>record_number</th>\n",
       "      <th>num_bedrooms</th>\n",
       "      <th>num_units</th>\n",
       "      <th>affordability_level</th>\n",
       "      <th>tenant_income_ind</th>\n",
       "    </tr>\n",
       "  </thead>\n",
       "  <tbody>\n",
       "    <tr>\n",
       "      <th>30</th>\n",
       "      <td>2013</td>\n",
       "      <td>freddie</td>\n",
       "      <td>10.0</td>\n",
       "      <td>2 or more bedrooms</td>\n",
       "      <td>1.0</td>\n",
       "      <td>&gt;=0, &lt;=50%</td>\n",
       "      <td>No or Not provided</td>\n",
       "    </tr>\n",
       "    <tr>\n",
       "      <th>31</th>\n",
       "      <td>2013</td>\n",
       "      <td>freddie</td>\n",
       "      <td>10.0</td>\n",
       "      <td>2 or more bedrooms</td>\n",
       "      <td>1.0</td>\n",
       "      <td>&gt;=0, &lt;=50%</td>\n",
       "      <td>No or Not provided</td>\n",
       "    </tr>\n",
       "    <tr>\n",
       "      <th>32</th>\n",
       "      <td>2013</td>\n",
       "      <td>freddie</td>\n",
       "      <td>10.0</td>\n",
       "      <td>2 or more bedrooms</td>\n",
       "      <td>1.0</td>\n",
       "      <td>&gt;=0, &lt;=50%</td>\n",
       "      <td>No or Not provided</td>\n",
       "    </tr>\n",
       "    <tr>\n",
       "      <th>33</th>\n",
       "      <td>2013</td>\n",
       "      <td>freddie</td>\n",
       "      <td>10.0</td>\n",
       "      <td>2 or more bedrooms</td>\n",
       "      <td>1.0</td>\n",
       "      <td>&gt;=0, &lt;=50%</td>\n",
       "      <td>No or Not provided</td>\n",
       "    </tr>\n",
       "    <tr>\n",
       "      <th>34</th>\n",
       "      <td>2013</td>\n",
       "      <td>freddie</td>\n",
       "      <td>10.0</td>\n",
       "      <td>2 or more bedrooms</td>\n",
       "      <td>1.0</td>\n",
       "      <td>&gt;=0, &lt;=50%</td>\n",
       "      <td>No or Not provided</td>\n",
       "    </tr>\n",
       "  </tbody>\n",
       "</table>\n",
       "</div>"
      ],
      "text/plain": [
       "    year enterprise_flag  record_number        num_bedrooms num_units  \\\n",
       "30  2013         freddie           10.0  2 or more bedrooms       1.0   \n",
       "31  2013         freddie           10.0  2 or more bedrooms       1.0   \n",
       "32  2013         freddie           10.0  2 or more bedrooms       1.0   \n",
       "33  2013         freddie           10.0  2 or more bedrooms       1.0   \n",
       "34  2013         freddie           10.0  2 or more bedrooms       1.0   \n",
       "\n",
       "   affordability_level   tenant_income_ind  \n",
       "30          >=0, <=50%  No or Not provided  \n",
       "31          >=0, <=50%  No or Not provided  \n",
       "32          >=0, <=50%  No or Not provided  \n",
       "33          >=0, <=50%  No or Not provided  \n",
       "34          >=0, <=50%  No or Not provided  "
      ]
     },
     "execution_count": 34,
     "metadata": {},
     "output_type": "execute_result"
    }
   ],
   "source": [
    "unit_data[duplicates].head()"
   ]
  },
  {
   "cell_type": "markdown",
   "metadata": {},
   "source": [
    "The duplicated rows in `unit_data` are likely due to the fact that the data are not properly joined. Units may have the same values since unit parameters are binned and record numbers related to a property and not individual units.9"
   ]
  },
  {
   "cell_type": "markdown",
   "metadata": {},
   "source": [
    "# Accuracy\n"
   ]
  },
  {
   "cell_type": "markdown",
   "metadata": {},
   "source": [
    "# Atomicity\n"
   ]
  },
  {
   "cell_type": "markdown",
   "metadata": {},
   "source": [
    "# Conformity\n"
   ]
  },
  {
   "cell_type": "markdown",
   "metadata": {},
   "source": [
    "# Overall Quality"
   ]
  }
 ],
 "metadata": {
  "kernelspec": {
   "display_name": "ait580",
   "language": "python",
   "name": "python3"
  },
  "language_info": {
   "codemirror_mode": {
    "name": "ipython",
    "version": 3
   },
   "file_extension": ".py",
   "mimetype": "text/x-python",
   "name": "python",
   "nbconvert_exporter": "python",
   "pygments_lexer": "ipython3",
   "version": "3.11.10"
  }
 },
 "nbformat": 4,
 "nbformat_minor": 2
}
