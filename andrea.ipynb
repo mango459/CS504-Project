{
 "cells": [
  {
   "cell_type": "code",
   "execution_count": null,
   "id": "initial_id",
   "metadata": {
    "collapsed": true
   },
   "outputs": [],
   "source": [
    ""
   ]
  },
  {
   "metadata": {},
   "cell_type": "code",
   "outputs": [],
   "execution_count": null,
   "source": "",
   "id": "1904fca1534532e7"
  },
  {
   "metadata": {
    "ExecuteTime": {
     "end_time": "2024-11-05T04:50:25.024936Z",
     "start_time": "2024-11-05T04:50:24.310259Z"
    }
   },
   "cell_type": "code",
   "source": [
    "#!/usr/bin/env python3\n",
    "# -*- coding: utf-8 -*-\n",
    "\"\"\"\n",
    "Created on Mon Nov  4 22:19:30 2024\n",
    "\n",
    "@author: andreapaloschavez\n",
    "\"\"\"\n",
    "\n",
    "import pandas as pd\n",
    "\n",
    "# Load the data from the csv file\n",
    "data_path = '/Users/andreapaloschavez/Library/CloudStorage/OneDrive-Avantus/CS504/python/raw_19-23.csv'\n",
    "csv = pd.read_csv(data_path)\n",
    "\n",
    "# Create DataFrame\n",
    "df = pd.DataFrame(csv)\n",
    "\n",
    "# Calculate basic statistics for numerical fields\n",
    "statistics = {\n",
    "    'mean': df.mean(),\n",
    "    'median': df.median(),\n",
    "    'mode': df.mode().iloc[0],\n",
    "    'range': df.max() - df.min()\n",
    "}\n",
    "\n",
    "# Convert to DataFrame for better display\n",
    "statistics_df = pd.DataFrame(statistics)\n",
    "\n",
    "print(statistics_df)\n",
    "\n",
    "import matplotlib.pyplot as plt\n",
    "import seaborn as sns\n",
    "\n",
    "# Function to plot categorical distributions\n",
    "def plot_categorical_distribution(df, column, title):\n",
    "    plt.figure(figsize=(8, 5))\n",
    "    sns.countplot(data=df, x=column, order=df[column].value_counts().index, palette='Set2')\n",
    "    plt.title(title)\n",
    "    plt.xlabel(column)\n",
    "    plt.ylabel('Count')\n",
    "    plt.xticks(rotation=45)\n",
    "    plt.show()\n",
    "\n",
    "# Analyze and plot distributions for categorical variables\n",
    "plot_categorical_distribution(df, 'enterprise_flag', 'Distribution of Enterprise Flag')\n",
    "plot_categorical_distribution(df, 'affordability_cat', 'Distribution of Affordability Category')\n",
    "plot_categorical_distribution(df, 'purpose_of_loan', 'Distribution of Purpose of Loan')\n",
    "plot_categorical_distribution(df, 'type_of_seller', 'Distribution of Type of Seller')\n",
    "\n",
    "# Display frequency counts for each categorical variable\n",
    "for column in ['enterprise_flag', 'affordability_cat', 'purpose_of_loan', 'type_of_seller']:\n",
    "    print(f'Frequency Counts for {column}:')\n",
    "    print(df[column].value_counts())\n",
    "    print()\n",
    "\n",
    "# Note: import plotly.express as px works if you aren't using Spyder\n",
    "# My setup is finicky so I send it to browser to view the visuals\n",
    "import plotly.io as pio\n",
    "import plotly.express as px\n",
    "pio.renderers.default='browser'\n",
    "    \n",
    "# Distribution of Properties by Affordability Category \n",
    "# to identify trends in affordable housing availability\n",
    "def plot_affordability_distribution(df):\n",
    "    fig = px.histogram(df, x='affordability_cat', \n",
    "                       title='Distribution of Properties by Affordability Category', \n",
    "                       labels={'affordability_cat': 'Affordability Category'},\n",
    "                       color_discrete_sequence=['#636EFA'])\n",
    "    fig.update_layout(xaxis_title='Affordability Category', yaxis_title='Count')\n",
    "    fig.show()\n",
    "\n",
    "plot_affordability_distribution(df)\n",
    "# The high count in category 4 may imply that a substantial number of properties \n",
    "# are affordable to families making around 80-100% of the Area Median Income (AMI).\n",
    "# The limited representation in lower affordability categories could raise concerns \n",
    "# about accessibility to affordable housing for very low-income families, \n",
    "# highlighting an area for potential policy intervention or further investigation.\n",
    "\n",
    "    \n",
    "# Analyze Relationship Between Tract Income Ratio and Affordability Category \n",
    "# to see how income levels influence housing affordability.\n",
    "def plot_income_ratio_by_affordability(df):\n",
    "    fig = px.box(df, x='affordability_cat', y='tract_income_ratio',\n",
    "                 title='Tract Income Ratio by Affordability Category',\n",
    "                 labels={'affordability_cat': 'Affordability Category', 'tract_income_ratio': 'Tract Income Ratio'},\n",
    "                 color='affordability_cat', \n",
    "                 color_discrete_sequence=px.colors.qualitative.Plotly)\n",
    "    fig.update_layout(yaxis_title='Tract Income Ratio', xaxis_title='Affordability Category')\n",
    "    fig.show()\n",
    "    \n",
    "plot_income_ratio_by_affordability(df)\n",
    "# The median income ratios for affordability categories 0 and 4 appear lower \n",
    "# compared to categories 1 and 2, suggesting that properties categorized as \n",
    "# less affordable are found in areas with lower median incomes.\n",
    "# The data suggests that lower tract income ratios correlate with higher \n",
    "# affordability categories, meaning that as income levels decrease, the \n",
    "# affordability of housing options also tends to improve, albeit limitedly"
   ],
   "id": "f92ff41a5f6e0edd",
   "outputs": [
    {
     "name": "stdout",
     "output_type": "stream",
     "text": [
      "                                mean    median     mode     range\n",
      "Unnamed: 0             455517.637333  602770.0  17655.0  857036.0\n",
      "enterprise_flag             1.726684       2.0      2.0       1.0\n",
      "record_number            2178.913287    2094.0    833.0    5372.0\n",
      "num_bedrooms                1.524586       2.0      2.0       1.0\n",
      "num_units                   4.410345       1.0      1.0    2622.6\n",
      "affordability_level         2.779533       3.0      3.0       8.0\n",
      "tenant_income_ind           0.000000       0.0      0.0       0.0\n",
      "year                     2020.754503    2021.0   2020.0       4.0\n",
      "census_tract_2020           2.679537       3.0      3.0       8.0\n",
      "tract_income_ratio          1.803533       2.0      1.0       8.0\n",
      "affordability_cat           3.478401       4.0      4.0       9.0\n",
      "date_of_mortgage_note       1.099809       1.0      1.0       1.0\n",
      "purpose_of_loan             1.734417       2.0      2.0       8.0\n",
      "type_of_seller              1.328455       1.0      1.0       3.0\n",
      "federal_guarantee           1.997233       2.0      2.0       2.0\n",
      "tot_num_units               3.986384       5.0      5.0       8.0\n",
      "underserved_areas_ind            NaN       NaN      NaN       NaN\n"
     ]
    },
    {
     "ename": "ModuleNotFoundError",
     "evalue": "No module named 'matplotlib'",
     "output_type": "error",
     "traceback": [
      "\u001B[0;31m---------------------------------------------------------------------------\u001B[0m",
      "\u001B[0;31mModuleNotFoundError\u001B[0m                       Traceback (most recent call last)",
      "Cell \u001B[0;32mIn[12], line 31\u001B[0m\n\u001B[1;32m     27\u001B[0m statistics_df \u001B[38;5;241m=\u001B[39m pd\u001B[38;5;241m.\u001B[39mDataFrame(statistics)\n\u001B[1;32m     29\u001B[0m \u001B[38;5;28mprint\u001B[39m(statistics_df)\n\u001B[0;32m---> 31\u001B[0m \u001B[38;5;28;01mimport\u001B[39;00m \u001B[38;5;21;01mmatplotlib\u001B[39;00m\u001B[38;5;21;01m.\u001B[39;00m\u001B[38;5;21;01mpyplot\u001B[39;00m \u001B[38;5;28;01mas\u001B[39;00m \u001B[38;5;21;01mplt\u001B[39;00m\n\u001B[1;32m     32\u001B[0m \u001B[38;5;28;01mimport\u001B[39;00m \u001B[38;5;21;01mseaborn\u001B[39;00m \u001B[38;5;28;01mas\u001B[39;00m \u001B[38;5;21;01msns\u001B[39;00m\n\u001B[1;32m     34\u001B[0m \u001B[38;5;66;03m# Function to plot categorical distributions\u001B[39;00m\n",
      "\u001B[0;31mModuleNotFoundError\u001B[0m: No module named 'matplotlib'"
     ]
    }
   ],
   "execution_count": 12
  },
  {
   "metadata": {},
   "cell_type": "code",
   "outputs": [],
   "execution_count": null,
   "source": "",
   "id": "3bee35bb28dc01e4"
  },
  {
   "metadata": {},
   "cell_type": "code",
   "outputs": [],
   "execution_count": null,
   "source": "",
   "id": "5f14dd6981c97a67"
  },
  {
   "metadata": {},
   "cell_type": "markdown",
   "source": "",
   "id": "80fce7940de7d3e9"
  },
  {
   "metadata": {},
   "cell_type": "code",
   "outputs": [],
   "execution_count": null,
   "source": "",
   "id": "f537c0f1b685d23"
  },
  {
   "metadata": {},
   "cell_type": "markdown",
   "source": "",
   "id": "bf4082a54c35381e"
  }
 ],
 "metadata": {
  "kernelspec": {
   "display_name": "Python 3",
   "language": "python",
   "name": "python3"
  },
  "language_info": {
   "codemirror_mode": {
    "name": "ipython",
    "version": 2
   },
   "file_extension": ".py",
   "mimetype": "text/x-python",
   "name": "python",
   "nbconvert_exporter": "python",
   "pygments_lexer": "ipython2",
   "version": "2.7.6"
  }
 },
 "nbformat": 4,
 "nbformat_minor": 5
}
