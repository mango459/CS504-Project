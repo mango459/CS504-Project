{
 "cells": [
  {
   "cell_type": "code",
   "id": "initial_id",
   "metadata": {
    "collapsed": true,
    "ExecuteTime": {
     "end_time": "2024-11-05T03:17:17.403169Z",
     "start_time": "2024-11-05T03:17:15.177531Z"
    }
   },
   "source": [
    "import pandas as pd\n",
    "\n",
    "# Load the data from the csv file\n",
    "data_path = '/Users/andreapaloschavez/Library/CloudStorage/OneDrive-Avantus/CS504/python/raw_19-23.csv'\n",
    "csv = pd.read_csv(data_path)\n",
    "\n",
    "# Create DataFrame\n",
    "df = pd.DataFrame(csv)\n",
    "\n",
    "# Calculate basic statistics for numerical fields\n",
    "statistics = {\n",
    "    'mean': df.mean(),\n",
    "    'median': df.median(),\n",
    "    'mode': df.mode().iloc[0],\n",
    "    'range': df.max() - df.min()\n",
    "}\n",
    "\n",
    "# Convert to DataFrame for better display\n",
    "statistics_df = pd.DataFrame(statistics)\n",
    "\n",
    "print(statistics_df)"
   ],
   "outputs": [
    {
     "name": "stdout",
     "output_type": "stream",
     "text": [
      "                                mean    median     mode     range\n",
      "Unnamed: 0             455517.637333  602770.0  17655.0  857036.0\n",
      "enterprise_flag             1.726684       2.0      2.0       1.0\n",
      "record_number            2178.913287    2094.0    833.0    5372.0\n",
      "num_bedrooms                1.524586       2.0      2.0       1.0\n",
      "num_units                   4.410345       1.0      1.0    2622.6\n",
      "affordability_level         2.779533       3.0      3.0       8.0\n",
      "tenant_income_ind           0.000000       0.0      0.0       0.0\n",
      "year                     2020.754503    2021.0   2020.0       4.0\n",
      "census_tract_2020           2.679537       3.0      3.0       8.0\n",
      "tract_income_ratio          1.803533       2.0      1.0       8.0\n",
      "affordability_cat           3.478401       4.0      4.0       9.0\n",
      "date_of_mortgage_note       1.099809       1.0      1.0       1.0\n",
      "purpose_of_loan             1.734417       2.0      2.0       8.0\n",
      "type_of_seller              1.328455       1.0      1.0       3.0\n",
      "federal_guarantee           1.997233       2.0      2.0       2.0\n",
      "tot_num_units               3.986384       5.0      5.0       8.0\n",
      "underserved_areas_ind            NaN       NaN      NaN       NaN\n"
     ]
    }
   ],
   "execution_count": 3
  },
  {
   "metadata": {
    "ExecuteTime": {
     "end_time": "2024-11-05T03:18:02.221137Z",
     "start_time": "2024-11-05T03:18:02.196369Z"
    }
   },
   "cell_type": "code",
   "source": [
    "import seaborn as sns\n",
    "import plotly.express as px\n",
    "\n"
   ],
   "id": "9540f9cf1f1afb7f",
   "outputs": [
    {
     "ename": "ModuleNotFoundError",
     "evalue": "No module named 'seaborn'",
     "output_type": "error",
     "traceback": [
      "\u001B[0;31m---------------------------------------------------------------------------\u001B[0m",
      "\u001B[0;31mModuleNotFoundError\u001B[0m                       Traceback (most recent call last)",
      "Cell \u001B[0;32mIn[9], line 1\u001B[0m\n\u001B[0;32m----> 1\u001B[0m \u001B[38;5;28;01mimport\u001B[39;00m \u001B[38;5;21;01mseaborn\u001B[39;00m \u001B[38;5;28;01mas\u001B[39;00m \u001B[38;5;21;01msns\u001B[39;00m\n\u001B[1;32m      2\u001B[0m \u001B[38;5;28;01mimport\u001B[39;00m \u001B[38;5;21;01mplotly\u001B[39;00m\u001B[38;5;21;01m.\u001B[39;00m\u001B[38;5;21;01mexpress\u001B[39;00m \u001B[38;5;28;01mas\u001B[39;00m \u001B[38;5;21;01mpx\u001B[39;00m\n",
      "\u001B[0;31mModuleNotFoundError\u001B[0m: No module named 'seaborn'"
     ]
    }
   ],
   "execution_count": 9
  },
  {
   "metadata": {
    "ExecuteTime": {
     "end_time": "2024-11-05T03:11:54.212539Z",
     "start_time": "2024-11-05T03:11:54.205563Z"
    }
   },
   "cell_type": "code",
   "source": "",
   "id": "7c6763de8fde20cc",
   "outputs": [],
   "execution_count": null
  },
  {
   "metadata": {},
   "cell_type": "code",
   "outputs": [],
   "execution_count": null,
   "source": "",
   "id": "e24cd08e228f26e9"
  }
 ],
 "metadata": {
  "kernelspec": {
   "display_name": "Python 3",
   "language": "python",
   "name": "python3"
  },
  "language_info": {
   "codemirror_mode": {
    "name": "ipython",
    "version": 2
   },
   "file_extension": ".py",
   "mimetype": "text/x-python",
   "name": "python",
   "nbconvert_exporter": "python",
   "pygments_lexer": "ipython2",
   "version": "2.7.6"
  }
 },
 "nbformat": 4,
 "nbformat_minor": 5
}
