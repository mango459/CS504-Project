{
 "cells": [
  {
   "cell_type": "markdown",
   "metadata": {},
   "source": [
    "# Data Colllection and Conditioning\n",
    "Our datasets are distributed from several sources and require data collection techniques to integrate them into any potential analysis in a simplified manner.\n",
    "\n",
    "## Multifamily National File All Multifamily Properties By Units And Mortgages\n",
    "Our primary datasets are available on [fhfa.gov](https://www.fhfa.gov/data/multifamily-national-file-all-multifamily-properties-by-units-and-mortgages), but without an api will require the use of webscraping techniques and requests to integrate into the code. A set of data scraping tools specific to the webpage for this dataset has will be developed in `./src/srcaping.py` to address the findings of the exploration below."
   ]
  },
  {
   "cell_type": "code",
   "execution_count": null,
   "metadata": {},
   "outputs": [],
   "source": [
    "import re\n",
    "import requests\n",
    "import itertools\n",
    "import glob\n",
    "import pandas as pd\n",
    "from bs4 import BeautifulSoup\n",
    "from pprint import pprint\n",
    "from src.static import DATA_DIR\n",
    "from src.datamappers import loan_data_mapper, unit_data_mapper"
   ]
  },
  {
   "cell_type": "code",
   "execution_count": 2,
   "metadata": {},
   "outputs": [],
   "source": [
    "fhfa_url = 'https://www.fhfa.gov/data/multifamily-national-file-all-multifamily-properties-by-units-and-mortgages'"
   ]
  },
  {
   "cell_type": "code",
   "execution_count": 3,
   "metadata": {},
   "outputs": [],
   "source": [
    "def get_page_data(url) -> BeautifulSoup:\n",
    "    \"\"\"Gets a pages data\n",
    "    Args:\n",
    "        n: int -> number representing the page number\n",
    "    Returns:\n",
    "        A bs4 object full of the page info\"\"\"\n",
    "    response = requests.get(url)\n",
    "    return BeautifulSoup(response.content, 'html.parser')"
   ]
  },
  {
   "cell_type": "code",
   "execution_count": 4,
   "metadata": {},
   "outputs": [
    {
     "name": "stdout",
     "output_type": "stream",
     "text": [
      "There are 176 total anchor tags\n"
     ]
    }
   ],
   "source": [
    "# get main page html\n",
    "soup = get_page_data(fhfa_url)\n",
    "# parse for table data tags\n",
    "a_tags = soup.find_all('a')\n",
    "print(f'There are {len(a_tags)} total anchor tags')"
   ]
  },
  {
   "cell_type": "code",
   "execution_count": 5,
   "metadata": {},
   "outputs": [
    {
     "data": {
      "text/plain": [
       "[<a href=\"/sites/default/files/2023-10/2020_MFNationalFile2020.zip\">[ZIP]</a>,\n",
       " <a href=\"/sites/default/files/2023-10/2020_Multifamily_National_File_Unit_Class-Level_Data.pdf\">[PDF]</a>,\n",
       " <a href=\"/sites/default/files/2023-10/2020_Multifamily_National_File_Property-Level_Data.pdf\">[PDF]</a>,\n",
       " <a href=\"/sites/default/files/2023-10/2019_MFNationalFile2019.zip\">​[ZIP]</a>,\n",
       " <a href=\"/sites/default/files/2023-10/2019_Multifamily_National_File_Unit_Class-Level_Data.pdf\">​[PDF]</a>]"
      ]
     },
     "execution_count": 5,
     "metadata": {},
     "output_type": "execute_result"
    }
   ],
   "source": [
    "a_tags[120:125]"
   ]
  },
  {
   "cell_type": "markdown",
   "metadata": {},
   "source": [
    "It looks like the some of the tags start off with the year then the zip, then two metadata pdfs. This can be used to extract relevant files and store them in the users `DATA_DIRECTORY`. We wont access the files from the web each time we run our analysis since the stability of scraped data is dependent on the webpage html staying static. What works now may not work in the future."
   ]
  },
  {
   "cell_type": "code",
   "execution_count": 6,
   "metadata": {},
   "outputs": [
    {
     "name": "stdout",
     "output_type": "stream",
     "text": [
      "/sites/default/files/2024-08/2023_MFNationalFile2023.zip\n",
      "/sites/default/files/2024-08/2023_Multifamily_National_File_Unit_Class-Level_Data.pdf\n",
      "/sites/default/files/2024-08/2023_Multifamily_National_File_Property-Level_Data.pdf\n",
      "/sites/default/files/2023-09/2022_MFNationalFile2022.zip\n",
      "/sites/default/files/2023-09/2022_Multifamily_National_File_Unit_Class-Level_Data.pdf\n",
      "/sites/default/files/2023-09/2022_Multifamily_National_File_Property-Level_Data.pdf\n"
     ]
    }
   ],
   "source": [
    "counter = itertools.count()\n",
    "for a_tag in a_tags:\n",
    "    if a_tag['href'].endswith(('.pdf', '.zip')):\n",
    "        print(a_tag['href'])\n",
    "        if next(counter) == 5:\n",
    "            break\n"
   ]
  },
  {
   "cell_type": "markdown",
   "metadata": {},
   "source": [
    "We now have a way to hone in on the necessary data files and download them using requests."
   ]
  },
  {
   "cell_type": "code",
   "execution_count": 7,
   "metadata": {},
   "outputs": [],
   "source": [
    "from src.scraping import get_fhfa_data, extract_zips"
   ]
  },
  {
   "cell_type": "code",
   "execution_count": 8,
   "metadata": {},
   "outputs": [],
   "source": [
    "get_fhfa_data()"
   ]
  },
  {
   "cell_type": "markdown",
   "metadata": {},
   "source": [
    "## FHFA Data Conditioning\n",
    "Now that the FHFA data is downloaded we can begin working with it. let's open one file and examine the contents\n",
    "### Loan Data Parsing"
   ]
  },
  {
   "cell_type": "code",
   "execution_count": 9,
   "metadata": {},
   "outputs": [
    {
     "data": {
      "text/plain": [
       "['/home/mango/data/CS504/2023_Multifamily_National_File_Unit_Class-Level_Data.pdf',\n",
       " '/home/mango/data/CS504/2018_Multifamily_National_File_Property-Level_Data.pdf',\n",
       " '/home/mango/data/CS504/2014_Multifamily_National_File_Property-Level_Data.pdf',\n",
       " '/home/mango/data/CS504/2008_Multifamily_National_File_Property-Level_Data.pdf',\n",
       " '/home/mango/data/CS504/2021_MFNationalFile2021']"
      ]
     },
     "execution_count": 9,
     "metadata": {},
     "output_type": "execute_result"
    }
   ],
   "source": [
    "files = glob.glob(f'{DATA_DIR}/*')\n",
    "files[:5]"
   ]
  },
  {
   "cell_type": "markdown",
   "metadata": {},
   "source": [
    ">The contens of the data directory contain folders that actually contain the data files. We need to index down."
   ]
  },
  {
   "cell_type": "code",
   "execution_count": 10,
   "metadata": {},
   "outputs": [
    {
     "data": {
      "text/plain": [
       "['/home/mango/data/CS504/2021_MFNationalFile2021/fhlmc_mf2021b_loans.txt',\n",
       " '/home/mango/data/CS504/2021_MFNationalFile2021/2021_Multifamily_National_File_Unit_Class-Level_Data.pdf',\n",
       " '/home/mango/data/CS504/2021_MFNationalFile2021/fhlmc_mf2021b_units.txt',\n",
       " '/home/mango/data/CS504/2021_MFNationalFile2021/2021_Multifamily_National_File_Property-Level_Data.pdf',\n",
       " '/home/mango/data/CS504/2021_MFNationalFile2021/fnma_mf2021b_loans.txt']"
      ]
     },
     "execution_count": 10,
     "metadata": {},
     "output_type": "execute_result"
    }
   ],
   "source": [
    "files = glob.glob(f'{DATA_DIR}/*MFNationalFile*/*')\n",
    "files[:5]"
   ]
  },
  {
   "cell_type": "markdown",
   "metadata": {},
   "source": [
    "The data is locked up in these text files lets import and parse one"
   ]
  },
  {
   "cell_type": "code",
   "execution_count": 11,
   "metadata": {},
   "outputs": [
    {
     "data": {
      "text/plain": [
       "'/home/mango/data/CS504/2021_MFNationalFile2021/fnma_mf2021b_loans.txt'"
      ]
     },
     "execution_count": 11,
     "metadata": {},
     "output_type": "execute_result"
    }
   ],
   "source": [
    "filepath = files[4]\n",
    "filepath"
   ]
  },
  {
   "cell_type": "code",
   "execution_count": 12,
   "metadata": {},
   "outputs": [
    {
     "name": "stdout",
     "output_type": "stream",
     "text": [
      "1       1 3 1 3 2 2 1 2 2\n",
      "1       2 1 2 4 2 1 2 2 2\n",
      "1       3 2 2 3 2 1 1 2 2\n",
      "1       4 3 2 4 2 2 1 2 5\n",
      "1       5 2 2 4 2 1 1 2 2\n",
      "1       6 3 3 4 2 1 2 2 4\n",
      "1       7 3 1 4 2 2 2 2 2\n",
      "1       8 3 3 4 2 \n"
     ]
    }
   ],
   "source": [
    "with open(filepath, 'r') as f:\n",
    "    str_data:str = f.read()\n",
    "print(str_data[:200])"
   ]
  },
  {
   "cell_type": "markdown",
   "metadata": {},
   "source": [
    "The data is encoded into these text files. First we need to parse the data, then we can worry about decoding it. The first issue with the data is the multiple spaces separating the data inputs. we need a uniform pattern to split on so lets use regex to compress multiple spaces into single spaces"
   ]
  },
  {
   "cell_type": "code",
   "execution_count": 13,
   "metadata": {},
   "outputs": [],
   "source": [
    "str_data_clean:str = re.sub(r'[^\\S\\n]+', ' ', str_data)"
   ]
  },
  {
   "cell_type": "markdown",
   "metadata": {},
   "source": [
    "and split on newlines"
   ]
  },
  {
   "cell_type": "code",
   "execution_count": 14,
   "metadata": {},
   "outputs": [
    {
     "data": {
      "text/plain": [
       "['1 1 3 1 3 2 2 1 2 2',\n",
       " '1 2 1 2 4 2 1 2 2 2',\n",
       " '1 3 2 2 3 2 1 1 2 2',\n",
       " '1 4 3 2 4 2 2 1 2 5',\n",
       " '1 5 2 2 4 2 1 1 2 2']"
      ]
     },
     "execution_count": 14,
     "metadata": {},
     "output_type": "execute_result"
    }
   ],
   "source": [
    "list_data: list[str] = str_data_clean.split('\\n')\n",
    "list_data[:5]"
   ]
  },
  {
   "cell_type": "markdown",
   "metadata": {},
   "source": [
    "and now lets wrap it in a DataFrame"
   ]
  },
  {
   "cell_type": "code",
   "execution_count": 15,
   "metadata": {},
   "outputs": [
    {
     "data": {
      "text/html": [
       "<div>\n",
       "<style scoped>\n",
       "    .dataframe tbody tr th:only-of-type {\n",
       "        vertical-align: middle;\n",
       "    }\n",
       "\n",
       "    .dataframe tbody tr th {\n",
       "        vertical-align: top;\n",
       "    }\n",
       "\n",
       "    .dataframe thead th {\n",
       "        text-align: right;\n",
       "    }\n",
       "</style>\n",
       "<table border=\"1\" class=\"dataframe\">\n",
       "  <thead>\n",
       "    <tr style=\"text-align: right;\">\n",
       "      <th></th>\n",
       "      <th>1</th>\n",
       "      <th>2</th>\n",
       "      <th>3</th>\n",
       "      <th>4</th>\n",
       "      <th>5</th>\n",
       "      <th>6</th>\n",
       "      <th>7</th>\n",
       "      <th>8</th>\n",
       "      <th>9</th>\n",
       "      <th>10</th>\n",
       "    </tr>\n",
       "  </thead>\n",
       "  <tbody>\n",
       "    <tr>\n",
       "      <th>0</th>\n",
       "      <td>1</td>\n",
       "      <td>1</td>\n",
       "      <td>3</td>\n",
       "      <td>1</td>\n",
       "      <td>3</td>\n",
       "      <td>2</td>\n",
       "      <td>2</td>\n",
       "      <td>1</td>\n",
       "      <td>2</td>\n",
       "      <td>2</td>\n",
       "    </tr>\n",
       "    <tr>\n",
       "      <th>1</th>\n",
       "      <td>1</td>\n",
       "      <td>2</td>\n",
       "      <td>1</td>\n",
       "      <td>2</td>\n",
       "      <td>4</td>\n",
       "      <td>2</td>\n",
       "      <td>1</td>\n",
       "      <td>2</td>\n",
       "      <td>2</td>\n",
       "      <td>2</td>\n",
       "    </tr>\n",
       "    <tr>\n",
       "      <th>2</th>\n",
       "      <td>1</td>\n",
       "      <td>3</td>\n",
       "      <td>2</td>\n",
       "      <td>2</td>\n",
       "      <td>3</td>\n",
       "      <td>2</td>\n",
       "      <td>1</td>\n",
       "      <td>1</td>\n",
       "      <td>2</td>\n",
       "      <td>2</td>\n",
       "    </tr>\n",
       "    <tr>\n",
       "      <th>3</th>\n",
       "      <td>1</td>\n",
       "      <td>4</td>\n",
       "      <td>3</td>\n",
       "      <td>2</td>\n",
       "      <td>4</td>\n",
       "      <td>2</td>\n",
       "      <td>2</td>\n",
       "      <td>1</td>\n",
       "      <td>2</td>\n",
       "      <td>5</td>\n",
       "    </tr>\n",
       "    <tr>\n",
       "      <th>4</th>\n",
       "      <td>1</td>\n",
       "      <td>5</td>\n",
       "      <td>2</td>\n",
       "      <td>2</td>\n",
       "      <td>4</td>\n",
       "      <td>2</td>\n",
       "      <td>1</td>\n",
       "      <td>1</td>\n",
       "      <td>2</td>\n",
       "      <td>2</td>\n",
       "    </tr>\n",
       "  </tbody>\n",
       "</table>\n",
       "</div>"
      ],
      "text/plain": [
       "  1  2  3  4  5  6  7  8  9  10\n",
       "0  1  1  3  1  3  2  2  1  2  2\n",
       "1  1  2  1  2  4  2  1  2  2  2\n",
       "2  1  3  2  2  3  2  1  1  2  2\n",
       "3  1  4  3  2  4  2  2  1  2  5\n",
       "4  1  5  2  2  4  2  1  1  2  2"
      ]
     },
     "execution_count": 15,
     "metadata": {},
     "output_type": "execute_result"
    }
   ],
   "source": [
    "df = pd.DataFrame([x.split(' ') for x in list_data], columns=[x+1 for x in range(10)])\n",
    "df.head()"
   ]
  },
  {
   "cell_type": "markdown",
   "metadata": {},
   "source": [
    "Using the exploration above a set of tools can be developed off screen to parse the data and read it into dataframes for later use.\n",
    "\n",
    "### Data Mapping\n",
    "The next challenge is to map the data dictionary values to the data. This mapping should be able to transform the data from it's encoded version to a human-readable format and back again. Unfortunately there is no apparent way to do this other than by hand."
   ]
  },
  {
   "cell_type": "code",
   "execution_count": 16,
   "metadata": {},
   "outputs": [
    {
     "data": {
      "text/html": [
       "<div>\n",
       "<style scoped>\n",
       "    .dataframe tbody tr th:only-of-type {\n",
       "        vertical-align: middle;\n",
       "    }\n",
       "\n",
       "    .dataframe tbody tr th {\n",
       "        vertical-align: top;\n",
       "    }\n",
       "\n",
       "    .dataframe thead th {\n",
       "        text-align: right;\n",
       "    }\n",
       "</style>\n",
       "<table border=\"1\" class=\"dataframe\">\n",
       "  <thead>\n",
       "    <tr style=\"text-align: right;\">\n",
       "      <th></th>\n",
       "      <th>enterprise_flag</th>\n",
       "      <th>record_number</th>\n",
       "      <th>census_tract_2020</th>\n",
       "      <th>tract_income_ratio</th>\n",
       "      <th>affordability_cat</th>\n",
       "      <th>date_of_mortgage_note</th>\n",
       "      <th>purpose_of_loan</th>\n",
       "      <th>type_of_seller</th>\n",
       "      <th>federal_guarantee</th>\n",
       "      <th>tot_num_units</th>\n",
       "    </tr>\n",
       "  </thead>\n",
       "  <tbody>\n",
       "    <tr>\n",
       "      <th>0</th>\n",
       "      <td>1</td>\n",
       "      <td>1</td>\n",
       "      <td>3</td>\n",
       "      <td>1</td>\n",
       "      <td>3</td>\n",
       "      <td>2</td>\n",
       "      <td>2</td>\n",
       "      <td>1</td>\n",
       "      <td>2</td>\n",
       "      <td>2</td>\n",
       "    </tr>\n",
       "    <tr>\n",
       "      <th>1</th>\n",
       "      <td>1</td>\n",
       "      <td>2</td>\n",
       "      <td>1</td>\n",
       "      <td>2</td>\n",
       "      <td>4</td>\n",
       "      <td>2</td>\n",
       "      <td>1</td>\n",
       "      <td>2</td>\n",
       "      <td>2</td>\n",
       "      <td>2</td>\n",
       "    </tr>\n",
       "    <tr>\n",
       "      <th>2</th>\n",
       "      <td>1</td>\n",
       "      <td>3</td>\n",
       "      <td>2</td>\n",
       "      <td>2</td>\n",
       "      <td>3</td>\n",
       "      <td>2</td>\n",
       "      <td>1</td>\n",
       "      <td>1</td>\n",
       "      <td>2</td>\n",
       "      <td>2</td>\n",
       "    </tr>\n",
       "    <tr>\n",
       "      <th>3</th>\n",
       "      <td>1</td>\n",
       "      <td>4</td>\n",
       "      <td>3</td>\n",
       "      <td>2</td>\n",
       "      <td>4</td>\n",
       "      <td>2</td>\n",
       "      <td>2</td>\n",
       "      <td>1</td>\n",
       "      <td>2</td>\n",
       "      <td>5</td>\n",
       "    </tr>\n",
       "    <tr>\n",
       "      <th>4</th>\n",
       "      <td>1</td>\n",
       "      <td>5</td>\n",
       "      <td>2</td>\n",
       "      <td>2</td>\n",
       "      <td>4</td>\n",
       "      <td>2</td>\n",
       "      <td>1</td>\n",
       "      <td>1</td>\n",
       "      <td>2</td>\n",
       "      <td>2</td>\n",
       "    </tr>\n",
       "  </tbody>\n",
       "</table>\n",
       "</div>"
      ],
      "text/plain": [
       "  enterprise_flag record_number census_tract_2020 tract_income_ratio  \\\n",
       "0               1             1                 3                  1   \n",
       "1               1             2                 1                  2   \n",
       "2               1             3                 2                  2   \n",
       "3               1             4                 3                  2   \n",
       "4               1             5                 2                  2   \n",
       "\n",
       "  affordability_cat date_of_mortgage_note purpose_of_loan type_of_seller  \\\n",
       "0                 3                     2               2              1   \n",
       "1                 4                     2               1              2   \n",
       "2                 3                     2               1              1   \n",
       "3                 4                     2               2              1   \n",
       "4                 4                     2               1              1   \n",
       "\n",
       "  federal_guarantee tot_num_units  \n",
       "0                 2             2  \n",
       "1                 2             2  \n",
       "2                 2             2  \n",
       "3                 2             5  \n",
       "4                 2             2  "
      ]
     },
     "execution_count": 16,
     "metadata": {},
     "output_type": "execute_result"
    }
   ],
   "source": [
    "# first we overwrite existing column names with something easier to read\n",
    "column_mapper = {1: 'enterprise_flag', 2: 'record_number', 3: 'census_tract_2020',\n",
    "                 4: 'tract_income_ratio', 5: 'affordability_cat', 6: 'date_of_mortgage_note',\n",
    "                 7: 'purpose_of_loan', 8: 'type_of_seller', 9: 'federal_guarantee',\n",
    "                   10: 'tot_num_units'}\n",
    "\n",
    "df.rename(column_mapper, axis=1, inplace=True)\n",
    "df.head()"
   ]
  },
  {
   "cell_type": "code",
   "execution_count": 17,
   "metadata": {},
   "outputs": [],
   "source": [
    "# next we apply a mapper to the values to decode them into human readable formats\n",
    "# we skip columns that have no mapping\n",
    "loan_data_mapper = {\n",
    "    'enterprise_flag': {'1':'fannie', '2':'freddie'},\n",
    "    'census_tract_2020': {'1': '<10%', '2': '>=10%, <30%', '3':'>=30% <100%', '4':'missing'},\n",
    "    'tract_income_ratio': {'1': '>0, <=80%', '2': '>10, <=120%', '3': '>120%', '4': 'missing'},\n",
    "    'affordability_cat': {'1' :  '>=20% of the units in the property are affordable at or below'+\\\n",
    "                          '50% of Area Median Income (AMI), and <40% are affordable at or below'+\\\n",
    "                          '60% AMI', '2' : '<20% and >=40%','3' : '>=20% and >=40%',\n",
    "                          '4' : '<20% and <40%', '8' : 'Not available', '9' : 'Not eligible',\n",
    "                          '0' :  'Missing'},\n",
    "    'date_of_mortgage_note': {'1' : 'originated in same year as acquired',\n",
    "                              '2' : 'originated prior to calendar year of acquisition',\n",
    "                              '9' : 'missing'},\n",
    "    'purpose_of_loan': {'1' : 'Purchase', '2' : 'Refinancing (all types)', '3' : 'New construction',\n",
    "                        '4' : 'Home Improvement/Rehabilitation',\n",
    "                        '9' : 'Not applicable/not available'},\n",
    "    'type_of_seller': {'1' : 'Mortgage Company', '2' : 'Savings Association Insurance Fund (SAIF)'+\\\n",
    "                       '- or Bank Insurance Fund (BIF)-insured depository institution',\n",
    "                       '3' : 'NCUA-insured Credit Union', '4' : 'Other'},\n",
    "    'federal_guarantee': {'1' : 'Yes (has some type of Federal Guarantee)', '2' : 'No',\n",
    "                          '3' : 'FHA Risk Sharing', '9' : 'Not available'},\n",
    "    'tot_num_units': {'1' : '5 to 24 units', '2' : '25 to 50', '3' : '51 to 99', '4' : '100 to 149',\n",
    "                      '5' : 'over 149', '9' : 'Unknown'}\n",
    "    }\n",
    "\n",
    "df = df.apply({\n",
    "    'enterprise_flag': lambda x: loan_data_mapper['enterprise_flag'].get(x, x),\n",
    "    'record_number': lambda x: x,\n",
    "    'census_tract_2020': lambda x: loan_data_mapper['census_tract_2020'].get(x, x),\n",
    "    'tract_income_ratio': lambda x: loan_data_mapper['tract_income_ratio'].get(x, x),\n",
    "    'affordability_cat': lambda x: loan_data_mapper['affordability_cat'].get(x, x),\n",
    "    'date_of_mortgage_note': lambda x: loan_data_mapper['date_of_mortgage_note'].get(x, x),\n",
    "    'purpose_of_loan': lambda x: loan_data_mapper['purpose_of_loan'].get(x, x),\n",
    "    'type_of_seller': lambda x: loan_data_mapper['type_of_seller'].get(x, x),\n",
    "    'federal_guarantee': lambda x: loan_data_mapper['federal_guarantee'].get(x, x),\n",
    "    'tot_num_units': lambda x: loan_data_mapper['tot_num_units'].get(x, x),\n",
    "})"
   ]
  },
  {
   "cell_type": "code",
   "execution_count": 18,
   "metadata": {},
   "outputs": [
    {
     "data": {
      "text/html": [
       "<div>\n",
       "<style scoped>\n",
       "    .dataframe tbody tr th:only-of-type {\n",
       "        vertical-align: middle;\n",
       "    }\n",
       "\n",
       "    .dataframe tbody tr th {\n",
       "        vertical-align: top;\n",
       "    }\n",
       "\n",
       "    .dataframe thead th {\n",
       "        text-align: right;\n",
       "    }\n",
       "</style>\n",
       "<table border=\"1\" class=\"dataframe\">\n",
       "  <thead>\n",
       "    <tr style=\"text-align: right;\">\n",
       "      <th></th>\n",
       "      <th>enterprise_flag</th>\n",
       "      <th>record_number</th>\n",
       "      <th>census_tract_2020</th>\n",
       "      <th>tract_income_ratio</th>\n",
       "      <th>affordability_cat</th>\n",
       "      <th>date_of_mortgage_note</th>\n",
       "      <th>purpose_of_loan</th>\n",
       "      <th>type_of_seller</th>\n",
       "      <th>federal_guarantee</th>\n",
       "      <th>tot_num_units</th>\n",
       "    </tr>\n",
       "  </thead>\n",
       "  <tbody>\n",
       "    <tr>\n",
       "      <th>0</th>\n",
       "      <td>fannie</td>\n",
       "      <td>1</td>\n",
       "      <td>&gt;=30% &lt;100%</td>\n",
       "      <td>&gt;0, &lt;=80%</td>\n",
       "      <td>&gt;=20% and &gt;=40%</td>\n",
       "      <td>originated prior to calendar year of acquisition</td>\n",
       "      <td>Refinancing (all types)</td>\n",
       "      <td>Mortgage Company</td>\n",
       "      <td>No</td>\n",
       "      <td>25 to 50</td>\n",
       "    </tr>\n",
       "    <tr>\n",
       "      <th>1</th>\n",
       "      <td>fannie</td>\n",
       "      <td>2</td>\n",
       "      <td>&lt;10%</td>\n",
       "      <td>&gt;10, &lt;=120%</td>\n",
       "      <td>&lt;20% and &lt;40%</td>\n",
       "      <td>originated prior to calendar year of acquisition</td>\n",
       "      <td>Purchase</td>\n",
       "      <td>Savings Association Insurance Fund (SAIF)- or ...</td>\n",
       "      <td>No</td>\n",
       "      <td>25 to 50</td>\n",
       "    </tr>\n",
       "    <tr>\n",
       "      <th>2</th>\n",
       "      <td>fannie</td>\n",
       "      <td>3</td>\n",
       "      <td>&gt;=10%, &lt;30%</td>\n",
       "      <td>&gt;10, &lt;=120%</td>\n",
       "      <td>&gt;=20% and &gt;=40%</td>\n",
       "      <td>originated prior to calendar year of acquisition</td>\n",
       "      <td>Purchase</td>\n",
       "      <td>Mortgage Company</td>\n",
       "      <td>No</td>\n",
       "      <td>25 to 50</td>\n",
       "    </tr>\n",
       "    <tr>\n",
       "      <th>3</th>\n",
       "      <td>fannie</td>\n",
       "      <td>4</td>\n",
       "      <td>&gt;=30% &lt;100%</td>\n",
       "      <td>&gt;10, &lt;=120%</td>\n",
       "      <td>&lt;20% and &lt;40%</td>\n",
       "      <td>originated prior to calendar year of acquisition</td>\n",
       "      <td>Refinancing (all types)</td>\n",
       "      <td>Mortgage Company</td>\n",
       "      <td>No</td>\n",
       "      <td>over 149</td>\n",
       "    </tr>\n",
       "    <tr>\n",
       "      <th>4</th>\n",
       "      <td>fannie</td>\n",
       "      <td>5</td>\n",
       "      <td>&gt;=10%, &lt;30%</td>\n",
       "      <td>&gt;10, &lt;=120%</td>\n",
       "      <td>&lt;20% and &lt;40%</td>\n",
       "      <td>originated prior to calendar year of acquisition</td>\n",
       "      <td>Purchase</td>\n",
       "      <td>Mortgage Company</td>\n",
       "      <td>No</td>\n",
       "      <td>25 to 50</td>\n",
       "    </tr>\n",
       "  </tbody>\n",
       "</table>\n",
       "</div>"
      ],
      "text/plain": [
       "  enterprise_flag record_number census_tract_2020 tract_income_ratio  \\\n",
       "0          fannie             1       >=30% <100%          >0, <=80%   \n",
       "1          fannie             2              <10%        >10, <=120%   \n",
       "2          fannie             3       >=10%, <30%        >10, <=120%   \n",
       "3          fannie             4       >=30% <100%        >10, <=120%   \n",
       "4          fannie             5       >=10%, <30%        >10, <=120%   \n",
       "\n",
       "  affordability_cat                             date_of_mortgage_note  \\\n",
       "0   >=20% and >=40%  originated prior to calendar year of acquisition   \n",
       "1     <20% and <40%  originated prior to calendar year of acquisition   \n",
       "2   >=20% and >=40%  originated prior to calendar year of acquisition   \n",
       "3     <20% and <40%  originated prior to calendar year of acquisition   \n",
       "4     <20% and <40%  originated prior to calendar year of acquisition   \n",
       "\n",
       "           purpose_of_loan                                     type_of_seller  \\\n",
       "0  Refinancing (all types)                                   Mortgage Company   \n",
       "1                 Purchase  Savings Association Insurance Fund (SAIF)- or ...   \n",
       "2                 Purchase                                   Mortgage Company   \n",
       "3  Refinancing (all types)                                   Mortgage Company   \n",
       "4                 Purchase                                   Mortgage Company   \n",
       "\n",
       "  federal_guarantee tot_num_units  \n",
       "0                No      25 to 50  \n",
       "1                No      25 to 50  \n",
       "2                No      25 to 50  \n",
       "3                No      over 149  \n",
       "4                No      25 to 50  "
      ]
     },
     "execution_count": 18,
     "metadata": {},
     "output_type": "execute_result"
    }
   ],
   "source": [
    "df.head()"
   ]
  },
  {
   "cell_type": "markdown",
   "metadata": {},
   "source": [
    "The loan data is successfully mapped. Using the logic developed here we will develop an object to convert between readable and encoded formats.\n",
    "\n",
    "### Unit Data Parsing"
   ]
  },
  {
   "cell_type": "code",
   "execution_count": 19,
   "metadata": {},
   "outputs": [
    {
     "data": {
      "text/plain": [
       "['/home/mango/data/CS504/2021_MFNationalFile2021/fhlmc_mf2021b_loans.txt',\n",
       " '/home/mango/data/CS504/2021_MFNationalFile2021/2021_Multifamily_National_File_Unit_Class-Level_Data.pdf',\n",
       " '/home/mango/data/CS504/2021_MFNationalFile2021/fhlmc_mf2021b_units.txt',\n",
       " '/home/mango/data/CS504/2021_MFNationalFile2021/2021_Multifamily_National_File_Property-Level_Data.pdf',\n",
       " '/home/mango/data/CS504/2021_MFNationalFile2021/fnma_mf2021b_loans.txt']"
      ]
     },
     "execution_count": 19,
     "metadata": {},
     "output_type": "execute_result"
    }
   ],
   "source": [
    "files = glob.glob(f'{DATA_DIR}/*MFNationalFile*/*')\n",
    "files[:5]"
   ]
  },
  {
   "cell_type": "code",
   "execution_count": 20,
   "metadata": {},
   "outputs": [
    {
     "data": {
      "text/html": [
       "<div>\n",
       "<style scoped>\n",
       "    .dataframe tbody tr th:only-of-type {\n",
       "        vertical-align: middle;\n",
       "    }\n",
       "\n",
       "    .dataframe tbody tr th {\n",
       "        vertical-align: top;\n",
       "    }\n",
       "\n",
       "    .dataframe thead th {\n",
       "        text-align: right;\n",
       "    }\n",
       "</style>\n",
       "<table border=\"1\" class=\"dataframe\">\n",
       "  <thead>\n",
       "    <tr style=\"text-align: right;\">\n",
       "      <th></th>\n",
       "      <th>0</th>\n",
       "    </tr>\n",
       "  </thead>\n",
       "  <tbody>\n",
       "    <tr>\n",
       "      <th>0</th>\n",
       "      <td>2       1 1   27.0 2 0</td>\n",
       "    </tr>\n",
       "    <tr>\n",
       "      <th>1</th>\n",
       "      <td>2       1 1   40.0 4 0</td>\n",
       "    </tr>\n",
       "    <tr>\n",
       "      <th>2</th>\n",
       "      <td>2       1 1   83.0 1 0</td>\n",
       "    </tr>\n",
       "    <tr>\n",
       "      <th>3</th>\n",
       "      <td>2       1 1    6.0 1 0</td>\n",
       "    </tr>\n",
       "    <tr>\n",
       "      <th>4</th>\n",
       "      <td>2       1 1   48.0 3 0</td>\n",
       "    </tr>\n",
       "  </tbody>\n",
       "</table>\n",
       "</div>"
      ],
      "text/plain": [
       "                        0\n",
       "0  2       1 1   27.0 2 0\n",
       "1  2       1 1   40.0 4 0\n",
       "2  2       1 1   83.0 1 0\n",
       "3  2       1 1    6.0 1 0\n",
       "4  2       1 1   48.0 3 0"
      ]
     },
     "execution_count": 20,
     "metadata": {},
     "output_type": "execute_result"
    }
   ],
   "source": [
    "df = pd.read_csv(files[2], header=None)\n",
    "df.head()"
   ]
  },
  {
   "cell_type": "code",
   "execution_count": 21,
   "metadata": {},
   "outputs": [
    {
     "data": {
      "text/html": [
       "<div>\n",
       "<style scoped>\n",
       "    .dataframe tbody tr th:only-of-type {\n",
       "        vertical-align: middle;\n",
       "    }\n",
       "\n",
       "    .dataframe tbody tr th {\n",
       "        vertical-align: top;\n",
       "    }\n",
       "\n",
       "    .dataframe thead th {\n",
       "        text-align: right;\n",
       "    }\n",
       "</style>\n",
       "<table border=\"1\" class=\"dataframe\">\n",
       "  <thead>\n",
       "    <tr style=\"text-align: right;\">\n",
       "      <th></th>\n",
       "      <th>0</th>\n",
       "    </tr>\n",
       "  </thead>\n",
       "  <tbody>\n",
       "    <tr>\n",
       "      <th>0</th>\n",
       "      <td>2       1 1   27.0 2 0</td>\n",
       "    </tr>\n",
       "    <tr>\n",
       "      <th>1</th>\n",
       "      <td>2       1 1   40.0 4 0</td>\n",
       "    </tr>\n",
       "    <tr>\n",
       "      <th>2</th>\n",
       "      <td>2       1 1   83.0 1 0</td>\n",
       "    </tr>\n",
       "    <tr>\n",
       "      <th>3</th>\n",
       "      <td>2       1 1    6.0 1 0</td>\n",
       "    </tr>\n",
       "    <tr>\n",
       "      <th>4</th>\n",
       "      <td>2       1 1   48.0 3 0</td>\n",
       "    </tr>\n",
       "  </tbody>\n",
       "</table>\n",
       "</div>"
      ],
      "text/plain": [
       "                        0\n",
       "0  2       1 1   27.0 2 0\n",
       "1  2       1 1   40.0 4 0\n",
       "2  2       1 1   83.0 1 0\n",
       "3  2       1 1    6.0 1 0\n",
       "4  2       1 1   48.0 3 0"
      ]
     },
     "execution_count": 21,
     "metadata": {},
     "output_type": "execute_result"
    }
   ],
   "source": [
    "# first we overwrite existing column names with something easier to read\n",
    "column_mapper = {1: 'enterprise_flag', 2: 'record_number', 3: 'num_bedrooms',\n",
    "                 4: 'num_units', 5: 'affordability_level', 6: 'tenant_income_ind'}\n",
    "\n",
    "df.rename(column_mapper, axis=1, inplace=True)\n",
    "df.head()"
   ]
  },
  {
   "cell_type": "code",
   "execution_count": 22,
   "metadata": {},
   "outputs": [],
   "source": [
    "from src.data_pipeline import clean_data"
   ]
  },
  {
   "cell_type": "code",
   "execution_count": 23,
   "metadata": {},
   "outputs": [
    {
     "data": {
      "text/html": [
       "<div>\n",
       "<style scoped>\n",
       "    .dataframe tbody tr th:only-of-type {\n",
       "        vertical-align: middle;\n",
       "    }\n",
       "\n",
       "    .dataframe tbody tr th {\n",
       "        vertical-align: top;\n",
       "    }\n",
       "\n",
       "    .dataframe thead th {\n",
       "        text-align: right;\n",
       "    }\n",
       "</style>\n",
       "<table border=\"1\" class=\"dataframe\">\n",
       "  <thead>\n",
       "    <tr style=\"text-align: right;\">\n",
       "      <th></th>\n",
       "      <th>1</th>\n",
       "      <th>2</th>\n",
       "      <th>3</th>\n",
       "      <th>4</th>\n",
       "      <th>5</th>\n",
       "      <th>6</th>\n",
       "    </tr>\n",
       "  </thead>\n",
       "  <tbody>\n",
       "    <tr>\n",
       "      <th>0</th>\n",
       "      <td>2</td>\n",
       "      <td>1</td>\n",
       "      <td>1</td>\n",
       "      <td>27.0</td>\n",
       "      <td>2</td>\n",
       "      <td>0</td>\n",
       "    </tr>\n",
       "    <tr>\n",
       "      <th>1</th>\n",
       "      <td>2</td>\n",
       "      <td>1</td>\n",
       "      <td>1</td>\n",
       "      <td>40.0</td>\n",
       "      <td>4</td>\n",
       "      <td>0</td>\n",
       "    </tr>\n",
       "    <tr>\n",
       "      <th>2</th>\n",
       "      <td>2</td>\n",
       "      <td>1</td>\n",
       "      <td>1</td>\n",
       "      <td>83.0</td>\n",
       "      <td>1</td>\n",
       "      <td>0</td>\n",
       "    </tr>\n",
       "    <tr>\n",
       "      <th>3</th>\n",
       "      <td>2</td>\n",
       "      <td>1</td>\n",
       "      <td>1</td>\n",
       "      <td>6.0</td>\n",
       "      <td>1</td>\n",
       "      <td>0</td>\n",
       "    </tr>\n",
       "    <tr>\n",
       "      <th>4</th>\n",
       "      <td>2</td>\n",
       "      <td>1</td>\n",
       "      <td>1</td>\n",
       "      <td>48.0</td>\n",
       "      <td>3</td>\n",
       "      <td>0</td>\n",
       "    </tr>\n",
       "    <tr>\n",
       "      <th>...</th>\n",
       "      <td>...</td>\n",
       "      <td>...</td>\n",
       "      <td>...</td>\n",
       "      <td>...</td>\n",
       "      <td>...</td>\n",
       "      <td>...</td>\n",
       "    </tr>\n",
       "    <tr>\n",
       "      <th>245778</th>\n",
       "      <td>2</td>\n",
       "      <td>4647</td>\n",
       "      <td>1</td>\n",
       "      <td>1.0</td>\n",
       "      <td>4</td>\n",
       "      <td>0</td>\n",
       "    </tr>\n",
       "    <tr>\n",
       "      <th>245779</th>\n",
       "      <td>2</td>\n",
       "      <td>4647</td>\n",
       "      <td>1</td>\n",
       "      <td>1.0</td>\n",
       "      <td>4</td>\n",
       "      <td>0</td>\n",
       "    </tr>\n",
       "    <tr>\n",
       "      <th>245780</th>\n",
       "      <td>2</td>\n",
       "      <td>4647</td>\n",
       "      <td>1</td>\n",
       "      <td>1.0</td>\n",
       "      <td>4</td>\n",
       "      <td>0</td>\n",
       "    </tr>\n",
       "    <tr>\n",
       "      <th>245781</th>\n",
       "      <td>2</td>\n",
       "      <td>4647</td>\n",
       "      <td>1</td>\n",
       "      <td>1.0</td>\n",
       "      <td>1</td>\n",
       "      <td>0</td>\n",
       "    </tr>\n",
       "    <tr>\n",
       "      <th>245782</th>\n",
       "      <td></td>\n",
       "      <td>None</td>\n",
       "      <td>None</td>\n",
       "      <td>None</td>\n",
       "      <td>None</td>\n",
       "      <td>None</td>\n",
       "    </tr>\n",
       "  </tbody>\n",
       "</table>\n",
       "<p>245783 rows × 6 columns</p>\n",
       "</div>"
      ],
      "text/plain": [
       "        1     2     3     4     5     6\n",
       "0       2     1     1  27.0     2     0\n",
       "1       2     1     1  40.0     4     0\n",
       "2       2     1     1  83.0     1     0\n",
       "3       2     1     1   6.0     1     0\n",
       "4       2     1     1  48.0     3     0\n",
       "...    ..   ...   ...   ...   ...   ...\n",
       "245778  2  4647     1   1.0     4     0\n",
       "245779  2  4647     1   1.0     4     0\n",
       "245780  2  4647     1   1.0     4     0\n",
       "245781  2  4647     1   1.0     1     0\n",
       "245782     None  None  None  None  None\n",
       "\n",
       "[245783 rows x 6 columns]"
      ]
     },
     "execution_count": 23,
     "metadata": {},
     "output_type": "execute_result"
    }
   ],
   "source": [
    "clean_data(files[2])"
   ]
  },
  {
   "cell_type": "code",
   "execution_count": null,
   "metadata": {},
   "outputs": [],
   "source": []
  }
 ],
 "metadata": {
  "kernelspec": {
   "display_name": "dev-env",
   "language": "python",
   "name": "python3"
  },
  "language_info": {
   "codemirror_mode": {
    "name": "ipython",
    "version": 3
   },
   "file_extension": ".py",
   "mimetype": "text/x-python",
   "name": "python",
   "nbconvert_exporter": "python",
   "pygments_lexer": "ipython3",
   "version": "3.11.9"
  }
 },
 "nbformat": 4,
 "nbformat_minor": 2
}
